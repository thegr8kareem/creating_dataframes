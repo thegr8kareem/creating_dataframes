{
 "cells": [
  {
   "cell_type": "markdown",
   "id": "0f7ec689",
   "metadata": {},
   "source": [
    "An easier way to create dataframes \n"
   ]
  },
  {
   "cell_type": "code",
   "execution_count": 1,
   "id": "ccdebcb2",
   "metadata": {},
   "outputs": [],
   "source": [
    "# Importing modules\n",
    "import pandas as pd\n",
    "\n",
    "# Creating the new set(DataFrame using zip method)\n",
    "question1 = int(input('How many columns are being used : '))\n",
    "question2 = int(input('How many values are in each column: '))\n",
    "column = []\n",
    "column_values = []\n",
    "\n",
    "# Creating lists in the column_values\n",
    "def columns_values_combined():\n",
    "    column_values.append([])\n",
    "\n",
    "# Creating lists in the new_column_values\n",
    "def new_columns_values_combined():\n",
    "    new_column_values.append([])\n",
    "\n",
    "# Collecting data for the dataframe\n",
    "for i in range(question1):\n",
    "    question3 = input('Enter the column header: ')\n",
    "    column.append(question3)\n",
    "    columns_values_combined()\n",
    "\n",
    "    for j in range(question2):\n",
    "        question4 = input(f'Enter the items of the column {question3}: ')\n",
    "        column_values[i].append(question4)\n",
    "\n",
    "# Making the dataframe with the collected data\n",
    "idx = [m for m in range(question2)]\n",
    "zipp = dict(list(zip(column, column_values)))\n",
    "df = pd.DataFrame(zipp, index=idx)\n",
    "\n",
    "df\n",
    "\n",
    "# Extending your dataframe\n",
    "question5 = input(\"Do you want to add more columns to your list {Y or N}: \").capitalize()\n",
    "question6 = int(input(\"How many columns would you like to add: \"))\n",
    "\n",
    "# Code for the extension\n",
    "def df_extension():\n",
    "    global new_column\n",
    "    global new_column_values\n",
    "    new_column = []\n",
    "    new_column_values = []\n",
    "\n",
    "    # Collecting data for the dataframe\n",
    "    if question5 == \"Y\":\n",
    "        for i in range(question6):\n",
    "            question3 = input('Enter the column header: ')\n",
    "            new_column.append(question3)\n",
    "            new_columns_values_combined()\n",
    "\n",
    "            for j in range(question2):\n",
    "                question4 = input(f'Enter the items of the column {question3} : ')\n",
    "                new_column_values[i].append(question4)\n",
    "\n",
    "        # Updating the zipp dictionary\n",
    "        for i in range(question6):\n",
    "            zipp[new_column[i]] = new_column_values[i]\n",
    "\n",
    "        # Creating an updated dataframe\n",
    "        new_df = pd.DataFrame(zipp,index = idx)\n",
    "        print(\"This is your new dataframe\")\n",
    "        print(new_df)\n",
    "\n",
    "    else:\n",
    "        print(\"This is the dataframe you made\")\n",
    "        print(df)\n",
    "        pass  \n",
    "\n",
    "df_extension()  \n",
    "\n",
    "\n",
    "        \n"
   ]
  }
 ],
 "metadata": {
  "kernelspec": {
   "display_name": "base",
   "language": "python",
   "name": "python3"
  },
  "language_info": {
   "codemirror_mode": {
    "name": "ipython",
    "version": 3
   },
   "file_extension": ".py",
   "mimetype": "text/x-python",
   "name": "python",
   "nbconvert_exporter": "python",
   "pygments_lexer": "ipython3",
   "version": "3.9.12"
  },
  "vscode": {
   "interpreter": {
    "hash": "39c7b37d6762cfe19229bab84e4ee64294204dff90d2328d694afe7c1bd1a71d"
   }
  }
 },
 "nbformat": 4,
 "nbformat_minor": 5
}
