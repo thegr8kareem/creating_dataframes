{
 "cells": [
  {
   "cell_type": "markdown",
   "id": "0f7ec689",
   "metadata": {},
   "source": [
    "An easier way to create dataframes \n"
   ]
  },
  {
   "cell_type": "code",
   "execution_count": 1,
   "id": "ccdebcb2",
   "metadata": {},
   "outputs": [],
   "source": [
    "import pandas as pd\n",
    "import numpy as np "
   ]
  },
  {
   "cell_type": "code",
   "execution_count": 2,
   "id": "6f03dd38",
   "metadata": {},
   "outputs": [
    {
     "name": "stdout",
     "output_type": "stream",
     "text": [
      "    re  gf\n",
      "0  wed  df\n",
      "1  wed  df\n"
     ]
    },
    {
     "ename": "AttributeError",
     "evalue": "module 'pandas' has no attribute 'to_excel'",
     "output_type": "error",
     "traceback": [
      "\u001b[1;31m---------------------------------------------------------------------------\u001b[0m",
      "\u001b[1;31mAttributeError\u001b[0m                            Traceback (most recent call last)",
      "\u001b[1;32mc:\\Users\\X-ANE\\Desktop\\Untitled Folder\\Project DataFrame\\dataFrame.ipynb Cell 3\u001b[0m in \u001b[0;36m<cell line: 23>\u001b[1;34m()\u001b[0m\n\u001b[0;32m     <a href='vscode-notebook-cell:/c%3A/Users/X-ANE/Desktop/Untitled%20Folder/Project%20DataFrame/dataFrame.ipynb#W2sZmlsZQ%3D%3D?line=22'>23</a>\u001b[0m \u001b[39mif\u001b[39;00m q5 \u001b[39m==\u001b[39m \u001b[39m'\u001b[39m\u001b[39mExcel\u001b[39m\u001b[39m'\u001b[39m \u001b[39mor\u001b[39;00m \u001b[39m'\u001b[39m\u001b[39mExcel file\u001b[39m\u001b[39m'\u001b[39m:\n\u001b[0;32m     <a href='vscode-notebook-cell:/c%3A/Users/X-ANE/Desktop/Untitled%20Folder/Project%20DataFrame/dataFrame.ipynb#W2sZmlsZQ%3D%3D?line=23'>24</a>\u001b[0m     q6 \u001b[39m=\u001b[39m \u001b[39minput\u001b[39m(\u001b[39m'\u001b[39m\u001b[39mEnter the filename(extension inclusive):\u001b[39m\u001b[39m'\u001b[39m)\n\u001b[1;32m---> <a href='vscode-notebook-cell:/c%3A/Users/X-ANE/Desktop/Untitled%20Folder/Project%20DataFrame/dataFrame.ipynb#W2sZmlsZQ%3D%3D?line=24'>25</a>\u001b[0m     xl \u001b[39m=\u001b[39m pd\u001b[39m.\u001b[39;49mto_excel(q6,index \u001b[39m=\u001b[39m \u001b[39mFalse\u001b[39;00m)\n\u001b[0;32m     <a href='vscode-notebook-cell:/c%3A/Users/X-ANE/Desktop/Untitled%20Folder/Project%20DataFrame/dataFrame.ipynb#W2sZmlsZQ%3D%3D?line=25'>26</a>\u001b[0m \u001b[39melif\u001b[39;00m q5 \u001b[39m==\u001b[39m \u001b[39m'\u001b[39m\u001b[39mCsv\u001b[39m\u001b[39m'\u001b[39m \u001b[39mor\u001b[39;00m \u001b[39m'\u001b[39m\u001b[39mCsv file\u001b[39m\u001b[39m'\u001b[39m:\n\u001b[0;32m     <a href='vscode-notebook-cell:/c%3A/Users/X-ANE/Desktop/Untitled%20Folder/Project%20DataFrame/dataFrame.ipynb#W2sZmlsZQ%3D%3D?line=26'>27</a>\u001b[0m     q6 \u001b[39m=\u001b[39m \u001b[39minput\u001b[39m(\u001b[39m'\u001b[39m\u001b[39mEnter the filename(extension inclusive):\u001b[39m\u001b[39m'\u001b[39m)\n",
      "File \u001b[1;32mc:\\Users\\X-ANE\\anaconda3\\lib\\site-packages\\pandas\\__init__.py:261\u001b[0m, in \u001b[0;36m__getattr__\u001b[1;34m(name)\u001b[0m\n\u001b[0;32m    257\u001b[0m     \u001b[39mfrom\u001b[39;00m \u001b[39mpandas\u001b[39;00m\u001b[39m.\u001b[39;00m\u001b[39mcore\u001b[39;00m\u001b[39m.\u001b[39;00m\u001b[39marrays\u001b[39;00m\u001b[39m.\u001b[39;00m\u001b[39msparse\u001b[39;00m \u001b[39mimport\u001b[39;00m SparseArray \u001b[39mas\u001b[39;00m _SparseArray\n\u001b[0;32m    259\u001b[0m     \u001b[39mreturn\u001b[39;00m _SparseArray\n\u001b[1;32m--> 261\u001b[0m \u001b[39mraise\u001b[39;00m \u001b[39mAttributeError\u001b[39;00m(\u001b[39mf\u001b[39m\u001b[39m\"\u001b[39m\u001b[39mmodule \u001b[39m\u001b[39m'\u001b[39m\u001b[39mpandas\u001b[39m\u001b[39m'\u001b[39m\u001b[39m has no attribute \u001b[39m\u001b[39m'\u001b[39m\u001b[39m{\u001b[39;00mname\u001b[39m}\u001b[39;00m\u001b[39m'\u001b[39m\u001b[39m\"\u001b[39m)\n",
      "\u001b[1;31mAttributeError\u001b[0m: module 'pandas' has no attribute 'to_excel'"
     ]
    }
   ],
   "source": [
    "# Creating the new set(DataFrame using zip method)\n",
    "q1 = int(input('How many columns are being used : '))\n",
    "q2 = int(input('How many values are in each column: '))\n",
    "cols = []\n",
    "set_1 = []\n",
    "\n",
    "for i in range(q1):\n",
    "    q3 = input('Enter the name of the column: ')\n",
    "    cols.append(q3)\n",
    "    \n",
    "for j in range(q1):\n",
    "        q4 = [input('Enter the items of the column : ' )]\n",
    "        set_1.append(q4)\n",
    "idx = [m for m in range(q1)]\n",
    "zipp = dict(list(zip(cols,set_1)))\n",
    "set1 = pd.DataFrame(zipp,index = idx)\n",
    "\n",
    "print(set1)     "
   ]
  },
  {
   "cell_type": "code",
   "execution_count": 13,
   "id": "3a82a112",
   "metadata": {},
   "outputs": [
    {
     "data": {
      "text/plain": [
       "[['f'], ['d'], ['h'], ['n']]"
      ]
     },
     "execution_count": 13,
     "metadata": {},
     "output_type": "execute_result"
    }
   ],
   "source": [
    "\n",
    "set_1"
   ]
  },
  {
   "cell_type": "code",
   "execution_count": 12,
   "id": "89bafc56",
   "metadata": {},
   "outputs": [
    {
     "data": {
      "text/plain": [
       "{'er': ['f'], 'ty': ['d']}"
      ]
     },
     "execution_count": 12,
     "metadata": {},
     "output_type": "execute_result"
    }
   ],
   "source": [
    "zipp\n"
   ]
  }
 ],
 "metadata": {
  "kernelspec": {
   "display_name": "base",
   "language": "python",
   "name": "python3"
  },
  "language_info": {
   "codemirror_mode": {
    "name": "ipython",
    "version": 3
   },
   "file_extension": ".py",
   "mimetype": "text/x-python",
   "name": "python",
   "nbconvert_exporter": "python",
   "pygments_lexer": "ipython3",
   "version": "3.9.12"
  },
  "vscode": {
   "interpreter": {
    "hash": "39c7b37d6762cfe19229bab84e4ee64294204dff90d2328d694afe7c1bd1a71d"
   }
  }
 },
 "nbformat": 4,
 "nbformat_minor": 5
}
