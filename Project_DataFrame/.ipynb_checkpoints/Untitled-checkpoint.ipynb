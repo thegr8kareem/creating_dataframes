{
 "cells": [
  {
   "cell_type": "markdown",
   "id": "8e20bb1e",
   "metadata": {},
   "source": [
    "# Creating Dataframes\n"
   ]
  },
  {
   "cell_type": "code",
   "execution_count": null,
   "id": "9c4c9611",
   "metadata": {},
   "outputs": [],
   "source": []
  },
  {
   "cell_type": "code",
   "execution_count": 11,
   "id": "af946f1c",
   "metadata": {},
   "outputs": [],
   "source": [
    "import pandas as pd\n",
    "import numpy as np"
   ]
  },
  {
   "cell_type": "code",
   "execution_count": 15,
   "id": "4370798c",
   "metadata": {},
   "outputs": [
    {
     "name": "stdout",
     "output_type": "stream",
     "text": [
      "How many columns do you want to use: 1\n",
      "Enter your column name here: g\n",
      "How many values are in this column: 3\n",
      "Enter the content(s) of the column,one at a time: ds\n",
      "Enter the content(s) of the column,one at a time: sd\n",
      "Enter the content(s) of the column,one at a time: g\n",
      "['g']\n"
     ]
    },
    {
     "data": {
      "text/html": [
       "<div>\n",
       "<style scoped>\n",
       "    .dataframe tbody tr th:only-of-type {\n",
       "        vertical-align: middle;\n",
       "    }\n",
       "\n",
       "    .dataframe tbody tr th {\n",
       "        vertical-align: top;\n",
       "    }\n",
       "\n",
       "    .dataframe thead th {\n",
       "        text-align: right;\n",
       "    }\n",
       "</style>\n",
       "<table border=\"1\" class=\"dataframe\">\n",
       "  <thead>\n",
       "    <tr style=\"text-align: right;\">\n",
       "      <th></th>\n",
       "      <th>g</th>\n",
       "    </tr>\n",
       "  </thead>\n",
       "  <tbody>\n",
       "    <tr>\n",
       "      <th>0</th>\n",
       "      <td>g</td>\n",
       "    </tr>\n",
       "  </tbody>\n",
       "</table>\n",
       "</div>"
      ],
      "text/plain": [
       "   g\n",
       "0  g"
      ]
     },
     "execution_count": 15,
     "metadata": {},
     "output_type": "execute_result"
    }
   ],
   "source": [
    "my_dict = {}\n",
    "q1 = int(input('How many columns do you want to use: '))\n",
    "\n",
    "\n",
    "for i in range(q1):\n",
    "    q2 = input('Enter your column name here: ')\n",
    "#     key = 'key' + str(i+1)\n",
    "    key = q2\n",
    "    \n",
    "    q3 = int(input('How many values are in this column: '))\n",
    "    for i in range(q3):\n",
    "        q4 = input('Enter the content(s) of the column,one at a time: ')\n",
    "        value = []\n",
    "        \n",
    "    value.append(q4)\n",
    "#         values.append(q4)\n",
    "    my_dict.update({key:value})\n",
    "    \n",
    "    print(value)        \n",
    "    \n",
    "new_df = pd.DataFrame(my_dict)\n",
    "new_df\n",
    "    \n",
    "\n",
    "\n",
    "                \n",
    "       \n",
    "    \n",
    "            \n",
    "            \n",
    "    "
   ]
  },
  {
   "cell_type": "code",
   "execution_count": null,
   "id": "cfa85d9f",
   "metadata": {},
   "outputs": [],
   "source": []
  }
 ],
 "metadata": {
  "kernelspec": {
   "display_name": "Python 3 (ipykernel)",
   "language": "python",
   "name": "python3"
  },
  "language_info": {
   "codemirror_mode": {
    "name": "ipython",
    "version": 3
   },
   "file_extension": ".py",
   "mimetype": "text/x-python",
   "name": "python",
   "nbconvert_exporter": "python",
   "pygments_lexer": "ipython3",
   "version": "3.9.12"
  }
 },
 "nbformat": 4,
 "nbformat_minor": 5
}
