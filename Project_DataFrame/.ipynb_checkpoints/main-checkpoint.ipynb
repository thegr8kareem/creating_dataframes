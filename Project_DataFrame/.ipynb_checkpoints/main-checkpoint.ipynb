{
 "cells": [
  {
   "cell_type": "markdown",
   "id": "8e20bb1e",
   "metadata": {},
   "source": [
    "# Creating Dataframes\n"
   ]
  },
  {
   "cell_type": "code",
   "execution_count": null,
   "id": "9c4c9611",
   "metadata": {},
   "outputs": [],
   "source": []
  },
  {
   "cell_type": "code",
   "execution_count": 1,
   "id": "af946f1c",
   "metadata": {},
   "outputs": [],
   "source": [
    "import pandas as pd\n",
    "import numpy as np\n"
   ]
  },
  {
   "cell_type": "code",
   "execution_count": 5,
   "id": "4370798c",
   "metadata": {},
   "outputs": [
    {
     "name": "stdout",
     "output_type": "stream",
     "text": [
      "How many columns do you want to use: 4\n",
      "value1\n",
      "value2\n",
      "value3\n",
      "value4\n",
      "How many values are in a column: 3\n",
      "Enter your column name here: Girls\n",
      "Enter the content(s) of the column,one at a time: Bridgette\n",
      "Enter the content(s) of the column,one at a time: Sarah\n",
      "Enter the content(s) of the column,one at a time: Lomokie\n",
      "Enter your column name here: Boys\n",
      "Enter the content(s) of the column,one at a time: Kareem\n",
      "Enter the content(s) of the column,one at a time: Mike\n",
      "Enter the content(s) of the column,one at a time: Daves\n",
      "Enter your column name here: Pets\n",
      "Enter the content(s) of the column,one at a time: Dog\n",
      "Enter the content(s) of the column,one at a time: Cat\n",
      "Enter the content(s) of the column,one at a time: Pig\n",
      "Enter your column name here: Places\n",
      "Enter the content(s) of the column,one at a time: Lisbon\n",
      "Enter the content(s) of the column,one at a time: Luxemborg\n",
      "Enter the content(s) of the column,one at a time: Miami\n",
      "Do you wish to add more columns to your data: yes\n",
      "How many do you want to add: 2\n",
      "value0\n",
      "value1\n",
      "Enter your column name here: Apple devices\n",
      "Enter the content(s) of the column,one at a time: iPad pro\n",
      "Enter the content(s) of the column,one at a time: iPhone\n",
      "Enter the content(s) of the column,one at a time: Macbook Pro M1 Max\n",
      "Enter your column name here: Projects\n",
      "Enter the content(s) of the column,one at a time: Dataframe\n",
      "Enter the content(s) of the column,one at a time: Regression\n",
      "Enter the content(s) of the column,one at a time: Graph\n"
     ]
    },
    {
     "data": {
      "text/html": [
       "<div>\n",
       "<style scoped>\n",
       "    .dataframe tbody tr th:only-of-type {\n",
       "        vertical-align: middle;\n",
       "    }\n",
       "\n",
       "    .dataframe tbody tr th {\n",
       "        vertical-align: top;\n",
       "    }\n",
       "\n",
       "    .dataframe thead th {\n",
       "        text-align: right;\n",
       "    }\n",
       "</style>\n",
       "<table border=\"1\" class=\"dataframe\">\n",
       "  <thead>\n",
       "    <tr style=\"text-align: right;\">\n",
       "      <th></th>\n",
       "      <th>Girls</th>\n",
       "      <th>Boys</th>\n",
       "      <th>Pets</th>\n",
       "      <th>Places</th>\n",
       "      <th>Apple devices</th>\n",
       "      <th>Projects</th>\n",
       "    </tr>\n",
       "  </thead>\n",
       "  <tbody>\n",
       "    <tr>\n",
       "      <th>0</th>\n",
       "      <td>Bridgette</td>\n",
       "      <td>Kareem</td>\n",
       "      <td>Dog</td>\n",
       "      <td>Lisbon</td>\n",
       "      <td>iPad pro</td>\n",
       "      <td>Dataframe</td>\n",
       "    </tr>\n",
       "    <tr>\n",
       "      <th>1</th>\n",
       "      <td>Sarah</td>\n",
       "      <td>Mike</td>\n",
       "      <td>Cat</td>\n",
       "      <td>Luxemborg</td>\n",
       "      <td>iPhone</td>\n",
       "      <td>Regression</td>\n",
       "    </tr>\n",
       "    <tr>\n",
       "      <th>2</th>\n",
       "      <td>Lomokie</td>\n",
       "      <td>Daves</td>\n",
       "      <td>Pig</td>\n",
       "      <td>Miami</td>\n",
       "      <td>Macbook Pro M1 Max</td>\n",
       "      <td>Graph</td>\n",
       "    </tr>\n",
       "  </tbody>\n",
       "</table>\n",
       "</div>"
      ],
      "text/plain": [
       "       Girls    Boys Pets     Places       Apple devices    Projects\n",
       "0  Bridgette  Kareem  Dog     Lisbon            iPad pro   Dataframe\n",
       "1      Sarah    Mike  Cat  Luxemborg              iPhone  Regression\n",
       "2    Lomokie   Daves  Pig      Miami  Macbook Pro M1 Max       Graph"
      ]
     },
     "execution_count": 5,
     "metadata": {},
     "output_type": "execute_result"
    }
   ],
   "source": [
    "my_dict = {}\n",
    "value = []\n",
    "q1 = int(input('How many columns do you want to use: '))\n",
    "\n",
    "acs = []\n",
    "abss = []\n",
    "\n",
    "def list_gen():\n",
    "    word = 'value'\n",
    "    global j\n",
    "    for j in range(q1):\n",
    "        num = str(j+1)\n",
    "        data = word + num\n",
    "        print(data)\n",
    "        acs.append(data)\n",
    "        acs[j] = []\n",
    "        \n",
    "  \n",
    "list_gen()\n",
    "\n",
    "\n",
    "\n",
    "\n",
    "j = 0\n",
    "\n",
    "q3 = int(input('How many values are in a column: '))\n",
    "for i in range(q1):\n",
    "    q2 = input('Enter your column name here: ')\n",
    "    key = q2\n",
    "    for i in range(q3):\n",
    "        q4 = input('Enter the content(s) of the column,one at a time: ')\n",
    "        acs[j].append(q4)\n",
    "    my_dict.update({key: acs[j]})\n",
    "    j += 1\n",
    "\n",
    "\n",
    "q6 = input('Do you wish to add more columns to your data: ').capitalize()\n",
    "\n",
    "new_df = pd.DataFrame(my_dict)\n",
    "new_df\n",
    "\n",
    "if q6 == 'Yes':\n",
    "#     q1e = int(input('How many columns do you want to use: '))\n",
    "    q8 = int(input('How many do you want to add: '))\n",
    "           \n",
    "    def list_gen2():\n",
    "        word = 'value'\n",
    "        global m\n",
    "#         m = j + 1\n",
    "        for m in range(q8):\n",
    "            num = str(m)\n",
    "            data = word + num\n",
    "            print(data)\n",
    "            abss.append(data)\n",
    "            abss[m] = []\n",
    "       \n",
    "    list_gen2()\n",
    "    \n",
    "    m = 0 \n",
    "    for i in range(q8):\n",
    "        q2 = input('Enter your column name here: ')\n",
    "        key = q2\n",
    "                    \n",
    "        for i in range(q3):\n",
    "            q4 = input('Enter the content(s) of the column,one at a time: ')\n",
    "            abss[m].append(q4)\n",
    "        new_df[key] = abss[m] \n",
    "        m += 1\n",
    "else:\n",
    "    pass\n",
    "\n",
    "new_df\n",
    "\n",
    "q9 = input(\" If you want to save this dataframe as an excel,text or csv file,specify Yes or No: \").capitalize()\n",
    "\n",
    "if q9 == 'Yes':\n",
    "    q10 = input('If Yes,enter the file type: ').capitalize()\n",
    "    q11 = input('Also,enter the filename with the extension attached(.csv,.xlsx) here: ')\n",
    "    if q10 == 'Excel' or 'Excel file':\n",
    "        new_df.to_excel(q11,index = False)\n",
    "    elif q10 == 'Csv' or 'Csv file':\n",
    "        new_df.to_csv(q11,index = False)\n",
    "    else:\n",
    "        new_df.to_csv(q11,index = False,delimiter = '\\t')\n"
   ]
  },
  {
   "cell_type": "code",
   "execution_count": 4,
   "id": "b4da3ce6",
   "metadata": {},
   "outputs": [
    {
     "name": "stdout",
     "output_type": "stream",
     "text": [
      "4\n"
     ]
    },
    {
     "ename": "NameError",
     "evalue": "name 'm' is not defined",
     "output_type": "error",
     "traceback": [
      "\u001b[1;31m---------------------------------------------------------------------------\u001b[0m",
      "\u001b[1;31mNameError\u001b[0m                                 Traceback (most recent call last)",
      "Input \u001b[1;32mIn [4]\u001b[0m, in \u001b[0;36m<cell line: 3>\u001b[1;34m()\u001b[0m\n\u001b[0;32m      1\u001b[0m \u001b[38;5;66;03m## print(type(value))\u001b[39;00m\n\u001b[0;32m      2\u001b[0m \u001b[38;5;28mprint\u001b[39m(j)\n\u001b[1;32m----> 3\u001b[0m \u001b[38;5;28mprint\u001b[39m(abss[\u001b[43mm\u001b[49m\u001b[38;5;241m-\u001b[39m\u001b[38;5;241m1\u001b[39m])\n",
      "\u001b[1;31mNameError\u001b[0m: name 'm' is not defined"
     ]
    }
   ],
   "source": []
  },
  {
   "cell_type": "code",
   "execution_count": 3,
   "id": "1530b4bb",
   "metadata": {},
   "outputs": [
    {
     "name": "stdout",
     "output_type": "stream",
     "text": [
      "['David', 'MOses', 'Abraham']\n"
     ]
    }
   ],
   "source": []
  },
  {
   "cell_type": "code",
   "execution_count": null,
   "id": "50a5654f",
   "metadata": {},
   "outputs": [],
   "source": []
  }
 ],
 "metadata": {
  "kernelspec": {
   "display_name": "Python 3 (ipykernel)",
   "language": "python",
   "name": "python3"
  },
  "language_info": {
   "codemirror_mode": {
    "name": "ipython",
    "version": 3
   },
   "file_extension": ".py",
   "mimetype": "text/x-python",
   "name": "python",
   "nbconvert_exporter": "python",
   "pygments_lexer": "ipython3",
   "version": "3.9.12"
  },
  "vscode": {
   "interpreter": {
    "hash": "852b427ae446ed9707fa2e5abbf513af06bff545d2b526bc1f701dd4ce58a267"
   }
  }
 },
 "nbformat": 4,
 "nbformat_minor": 5
}
