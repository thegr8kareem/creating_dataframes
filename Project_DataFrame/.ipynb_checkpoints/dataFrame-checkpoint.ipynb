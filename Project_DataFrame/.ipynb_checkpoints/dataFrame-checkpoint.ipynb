{
 "cells": [
  {
   "cell_type": "markdown",
   "id": "0f7ec689",
   "metadata": {},
   "source": [
    "An easier way to create dataframes \n"
   ]
  },
  {
   "cell_type": "code",
   "execution_count": 2,
   "id": "ccdebcb2",
   "metadata": {},
   "outputs": [],
   "source": [
    "import pandas as  pd\n",
    "import numpy as np "
   ]
  },
  {
   "cell_type": "code",
   "execution_count": 23,
   "id": "6f03dd38",
   "metadata": {},
   "outputs": [
    {
     "name": "stdout",
     "output_type": "stream",
     "text": [
      "How many columns are being used : 2\n",
      "How many values are in each column: 2\n",
      "Enter the name of the column: e\n",
      "Enter the items of the column : r\n",
      "Enter the items of the column : ty\n",
      "Enter the name of the column: j\n",
      "Enter the items of the column : k\n",
      "Enter the items of the column : g\n"
     ]
    },
    {
     "data": {
      "text/html": [
       "<div>\n",
       "<style scoped>\n",
       "    .dataframe tbody tr th:only-of-type {\n",
       "        vertical-align: middle;\n",
       "    }\n",
       "\n",
       "    .dataframe tbody tr th {\n",
       "        vertical-align: top;\n",
       "    }\n",
       "\n",
       "    .dataframe thead th {\n",
       "        text-align: right;\n",
       "    }\n",
       "</style>\n",
       "<table border=\"1\" class=\"dataframe\">\n",
       "  <thead>\n",
       "    <tr style=\"text-align: right;\">\n",
       "      <th></th>\n",
       "      <th>e</th>\n",
       "      <th>j</th>\n",
       "    </tr>\n",
       "  </thead>\n",
       "  <tbody>\n",
       "    <tr>\n",
       "      <th>0</th>\n",
       "      <td>r</td>\n",
       "      <td>ty</td>\n",
       "    </tr>\n",
       "    <tr>\n",
       "      <th>1</th>\n",
       "      <td>r</td>\n",
       "      <td>ty</td>\n",
       "    </tr>\n",
       "  </tbody>\n",
       "</table>\n",
       "</div>"
      ],
      "text/plain": [
       "   e   j\n",
       "0  r  ty\n",
       "1  r  ty"
      ]
     },
     "execution_count": 23,
     "metadata": {},
     "output_type": "execute_result"
    }
   ],
   "source": [
    "# Creating the new set(DataFrame using zip method)\n",
    "q1 = int(input('How many columns are being used : '))\n",
    "q2 = int(input('How many values are in each column: '))\n",
    "cols = []\n",
    "set_1 = []\n",
    "\n",
    "\n",
    "for i in range(q1):\n",
    "    q3 = input('Enter the name of the column: ')\n",
    "    cols.append(q3)\n",
    "    \n",
    "    for j in range(q2):\n",
    "        q4 = input('Enter the items of the column : ' )\n",
    "        set_1.append(q4)\n",
    "    \n",
    "    \n",
    "idx = [m for m in range(q1)]\n",
    "zipp = dict(list(zip(cols,set_1)))\n",
    "set1 = pd.DataFrame(zipp,index = idx)\n",
    "\n",
    "set1     \n",
    "\n",
    "# Saving the newly created dataframe\n",
    "q5 = input('Do you want to save it as a csv,excel or txt file: ').capitalize()\n",
    "q6 = input('Enter the filename(extension inclusive):')\n",
    "\n",
    "if q5 == 'Excel' or 'Excel file':\n",
    "    xl = pd.to_excel(q6,index = False)\n",
    "elif q5 == 'Csv' or 'Csv file':\n",
    "    cs = pd.to_csv(q6,index = False)\n",
    "else:\n",
    "    txt = pd.to_csv(q6,index = False,delimiter = '\\t')"
   ]
  },
  {
   "cell_type": "code",
   "execution_count": null,
   "id": "3a82a112",
   "metadata": {},
   "outputs": [],
   "source": []
  },
  {
   "cell_type": "code",
   "execution_count": null,
   "id": "89bafc56",
   "metadata": {},
   "outputs": [],
   "source": [
    "2\n",
    "2"
   ]
  }
 ],
 "metadata": {
  "kernelspec": {
   "display_name": "Python 3 (ipykernel)",
   "language": "python",
   "name": "python3"
  },
  "language_info": {
   "codemirror_mode": {
    "name": "ipython",
    "version": 3
   },
   "file_extension": ".py",
   "mimetype": "text/x-python",
   "name": "python",
   "nbconvert_exporter": "python",
   "pygments_lexer": "ipython3",
   "version": "3.9.12"
  }
 },
 "nbformat": 4,
 "nbformat_minor": 5
}
